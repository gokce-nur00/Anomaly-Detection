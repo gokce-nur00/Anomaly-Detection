{
 "cells": [
  {
   "cell_type": "code",
   "execution_count": 1,
   "metadata": {},
   "outputs": [],
   "source": [
    "import pandas as pd"
   ]
  },
  {
   "cell_type": "code",
   "execution_count": 2,
   "metadata": {},
   "outputs": [],
   "source": [
    "data = pd.read_csv(\"~\\Desktop\\JOTFORM\\Summer2023\\Anomaly-Detection\\data\\clustered_data.csv\")"
   ]
  },
  {
   "cell_type": "code",
   "execution_count": 3,
   "metadata": {},
   "outputs": [
    {
     "name": "stdout",
     "output_type": "stream",
     "text": [
      "<class 'pandas.core.frame.DataFrame'>\n",
      "RangeIndex: 4185186 entries, 0 to 4185185\n",
      "Data columns (total 6 columns):\n",
      " #   Column           Dtype \n",
      "---  ------           ----- \n",
      " 0   Unnamed: 0       int64 \n",
      " 1   Unnamed: 0.1     int64 \n",
      " 2   date             object\n",
      " 3   keyword          object\n",
      " 4   keyword_sum      int64 \n",
      " 5   Cluster_Keyword  object\n",
      "dtypes: int64(3), object(3)\n",
      "memory usage: 191.6+ MB\n"
     ]
    }
   ],
   "source": [
    "data.info()"
   ]
  },
  {
   "cell_type": "code",
   "execution_count": 4,
   "metadata": {},
   "outputs": [
    {
     "data": {
      "text/html": [
       "<div>\n",
       "<style scoped>\n",
       "    .dataframe tbody tr th:only-of-type {\n",
       "        vertical-align: middle;\n",
       "    }\n",
       "\n",
       "    .dataframe tbody tr th {\n",
       "        vertical-align: top;\n",
       "    }\n",
       "\n",
       "    .dataframe thead th {\n",
       "        text-align: right;\n",
       "    }\n",
       "</style>\n",
       "<table border=\"1\" class=\"dataframe\">\n",
       "  <thead>\n",
       "    <tr style=\"text-align: right;\">\n",
       "      <th></th>\n",
       "      <th>Unnamed: 0</th>\n",
       "      <th>Unnamed: 0.1</th>\n",
       "      <th>date</th>\n",
       "      <th>keyword</th>\n",
       "      <th>keyword_sum</th>\n",
       "      <th>Cluster_Keyword</th>\n",
       "    </tr>\n",
       "  </thead>\n",
       "  <tbody>\n",
       "    <tr>\n",
       "      <th>0</th>\n",
       "      <td>4185185</td>\n",
       "      <td>4290330</td>\n",
       "      <td>2023-01-01</td>\n",
       "      <td>scout cookie</td>\n",
       "      <td>5</td>\n",
       "      <td>fashion</td>\n",
       "    </tr>\n",
       "    <tr>\n",
       "      <th>1</th>\n",
       "      <td>289913</td>\n",
       "      <td>4288385</td>\n",
       "      <td>2023-01-01</td>\n",
       "      <td>payment method</td>\n",
       "      <td>365</td>\n",
       "      <td>finance</td>\n",
       "    </tr>\n",
       "    <tr>\n",
       "      <th>2</th>\n",
       "      <td>1482274</td>\n",
       "      <td>4288016</td>\n",
       "      <td>2023-01-01</td>\n",
       "      <td>sum</td>\n",
       "      <td>26</td>\n",
       "      <td>finance</td>\n",
       "    </tr>\n",
       "    <tr>\n",
       "      <th>3</th>\n",
       "      <td>3996302</td>\n",
       "      <td>4287198</td>\n",
       "      <td>2023-01-01</td>\n",
       "      <td>describes medical</td>\n",
       "      <td>5</td>\n",
       "      <td>beauty &amp; personal care</td>\n",
       "    </tr>\n",
       "    <tr>\n",
       "      <th>4</th>\n",
       "      <td>3200627</td>\n",
       "      <td>4285615</td>\n",
       "      <td>2023-01-01</td>\n",
       "      <td>cords</td>\n",
       "      <td>9</td>\n",
       "      <td>telecommunications</td>\n",
       "    </tr>\n",
       "  </tbody>\n",
       "</table>\n",
       "</div>"
      ],
      "text/plain": [
       "   Unnamed: 0  Unnamed: 0.1        date            keyword  keyword_sum  \\\n",
       "0     4185185       4290330  2023-01-01       scout cookie            5   \n",
       "1      289913       4288385  2023-01-01     payment method          365   \n",
       "2     1482274       4288016  2023-01-01                sum           26   \n",
       "3     3996302       4287198  2023-01-01  describes medical            5   \n",
       "4     3200627       4285615  2023-01-01              cords            9   \n",
       "\n",
       "          Cluster_Keyword  \n",
       "0                 fashion  \n",
       "1                 finance  \n",
       "2                 finance  \n",
       "3  beauty & personal care  \n",
       "4      telecommunications  "
      ]
     },
     "execution_count": 4,
     "metadata": {},
     "output_type": "execute_result"
    }
   ],
   "source": [
    "data.head()"
   ]
  },
  {
   "cell_type": "code",
   "execution_count": 7,
   "metadata": {},
   "outputs": [],
   "source": [
    "data = data.drop([\"Unnamed: 0\", \"Unnamed: 0.1\"], axis=1)"
   ]
  },
  {
   "cell_type": "code",
   "execution_count": 8,
   "metadata": {},
   "outputs": [
    {
     "name": "stdout",
     "output_type": "stream",
     "text": [
      "<class 'pandas.core.frame.DataFrame'>\n",
      "RangeIndex: 4185186 entries, 0 to 4185185\n",
      "Data columns (total 4 columns):\n",
      " #   Column           Dtype \n",
      "---  ------           ----- \n",
      " 0   date             object\n",
      " 1   keyword          object\n",
      " 2   keyword_sum      int64 \n",
      " 3   Cluster_Keyword  object\n",
      "dtypes: int64(1), object(3)\n",
      "memory usage: 127.7+ MB\n"
     ]
    }
   ],
   "source": [
    "data.info()"
   ]
  },
  {
   "cell_type": "code",
   "execution_count": 10,
   "metadata": {},
   "outputs": [
    {
     "data": {
      "text/html": [
       "<div>\n",
       "<style scoped>\n",
       "    .dataframe tbody tr th:only-of-type {\n",
       "        vertical-align: middle;\n",
       "    }\n",
       "\n",
       "    .dataframe tbody tr th {\n",
       "        vertical-align: top;\n",
       "    }\n",
       "\n",
       "    .dataframe thead th {\n",
       "        text-align: right;\n",
       "    }\n",
       "</style>\n",
       "<table border=\"1\" class=\"dataframe\">\n",
       "  <thead>\n",
       "    <tr style=\"text-align: right;\">\n",
       "      <th></th>\n",
       "      <th>date</th>\n",
       "      <th>keyword</th>\n",
       "      <th>keyword_sum</th>\n",
       "      <th>Cluster_Keyword</th>\n",
       "    </tr>\n",
       "  </thead>\n",
       "  <tbody>\n",
       "    <tr>\n",
       "      <th>0</th>\n",
       "      <td>2023-01-01</td>\n",
       "      <td>scout cookie</td>\n",
       "      <td>5</td>\n",
       "      <td>fashion</td>\n",
       "    </tr>\n",
       "    <tr>\n",
       "      <th>1</th>\n",
       "      <td>2023-01-01</td>\n",
       "      <td>payment method</td>\n",
       "      <td>365</td>\n",
       "      <td>finance</td>\n",
       "    </tr>\n",
       "    <tr>\n",
       "      <th>2</th>\n",
       "      <td>2023-01-01</td>\n",
       "      <td>sum</td>\n",
       "      <td>26</td>\n",
       "      <td>finance</td>\n",
       "    </tr>\n",
       "    <tr>\n",
       "      <th>3</th>\n",
       "      <td>2023-01-01</td>\n",
       "      <td>describes medical</td>\n",
       "      <td>5</td>\n",
       "      <td>beauty &amp; personal care</td>\n",
       "    </tr>\n",
       "    <tr>\n",
       "      <th>4</th>\n",
       "      <td>2023-01-01</td>\n",
       "      <td>cords</td>\n",
       "      <td>9</td>\n",
       "      <td>telecommunications</td>\n",
       "    </tr>\n",
       "  </tbody>\n",
       "</table>\n",
       "</div>"
      ],
      "text/plain": [
       "         date            keyword  keyword_sum         Cluster_Keyword\n",
       "0  2023-01-01       scout cookie            5                 fashion\n",
       "1  2023-01-01     payment method          365                 finance\n",
       "2  2023-01-01                sum           26                 finance\n",
       "3  2023-01-01  describes medical            5  beauty & personal care\n",
       "4  2023-01-01              cords            9      telecommunications"
      ]
     },
     "execution_count": 10,
     "metadata": {},
     "output_type": "execute_result"
    }
   ],
   "source": [
    "data.head()"
   ]
  },
  {
   "cell_type": "code",
   "execution_count": 11,
   "metadata": {},
   "outputs": [],
   "source": [
    "data.to_csv(\"~\\Desktop\\JOTFORM\\Summer2023\\Anomaly-Detection\\data\\clustered_data.csv\")"
   ]
  }
 ],
 "metadata": {
  "kernelspec": {
   "display_name": "Python 3",
   "language": "python",
   "name": "python3"
  },
  "language_info": {
   "codemirror_mode": {
    "name": "ipython",
    "version": 3
   },
   "file_extension": ".py",
   "mimetype": "text/x-python",
   "name": "python",
   "nbconvert_exporter": "python",
   "pygments_lexer": "ipython3",
   "version": "3.9.13"
  },
  "orig_nbformat": 4
 },
 "nbformat": 4,
 "nbformat_minor": 2
}
