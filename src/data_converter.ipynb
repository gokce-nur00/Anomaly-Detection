{
 "cells": [
  {
   "cell_type": "code",
   "execution_count": 1,
   "metadata": {},
   "outputs": [],
   "source": [
    "import pandas as pd\n",
    "import pickle\n",
    "from sentence_transformers import SentenceTransformer\n",
    "from sklearn.metrics.pairwise import cosine_similarity"
   ]
  },
  {
   "cell_type": "code",
   "execution_count": 2,
   "metadata": {},
   "outputs": [],
   "source": [
    "data = pd.read_csv(\"~\\Desktop\\JOTFORM\\Summer2023\\Anomaly-Detection\\data\\jotform_trends_keywords_intern.csv\")"
   ]
  },
  {
   "cell_type": "code",
   "execution_count": 3,
   "metadata": {},
   "outputs": [],
   "source": [
    "keywords = data.keyword.drop_duplicates()"
   ]
  },
  {
   "cell_type": "code",
   "execution_count": 4,
   "metadata": {},
   "outputs": [
    {
     "data": {
      "text/plain": [
       "4185259"
      ]
     },
     "execution_count": 4,
     "metadata": {},
     "output_type": "execute_result"
    }
   ],
   "source": [
    "len(data.keyword)"
   ]
  },
  {
   "cell_type": "code",
   "execution_count": 5,
   "metadata": {},
   "outputs": [
    {
     "data": {
      "text/plain": [
       "227250"
      ]
     },
     "execution_count": 5,
     "metadata": {},
     "output_type": "execute_result"
    }
   ],
   "source": [
    "len(keywords)"
   ]
  },
  {
   "cell_type": "code",
   "execution_count": 6,
   "metadata": {},
   "outputs": [],
   "source": [
    "model = SentenceTransformer('all-MiniLM-L6-v2')"
   ]
  },
  {
   "cell_type": "code",
   "execution_count": 7,
   "metadata": {},
   "outputs": [],
   "source": [
    "sentence_embeddings = model.encode(keywords.tolist(), show_progress_bar=True, convert_to_tensor=True,\n",
    "    device=\"cpu\")"
   ]
  },
  {
   "cell_type": "code",
   "execution_count": 8,
   "metadata": {},
   "outputs": [],
   "source": [
    "cluster_keywords = pd.read_csv('~\\Desktop\\JOTFORM\\Summer2023\\Anomaly-Detection\\data\\industry_data.csv').industry.tolist()"
   ]
  },
  {
   "cell_type": "code",
   "execution_count": 9,
   "metadata": {},
   "outputs": [
    {
     "name": "stderr",
     "output_type": "stream",
     "text": [
      "Batches: 100%|██████████| 2/2 [00:00<00:00, 25.55it/s]\n"
     ]
    }
   ],
   "source": [
    "cluster_embeddings = model.encode(cluster_keywords, show_progress_bar=True, convert_to_tensor=True,\n",
    "    device=\"cpu\")"
   ]
  },
  {
   "cell_type": "code",
   "execution_count": 28,
   "metadata": {},
   "outputs": [],
   "source": [
    "with open('model.pickle', 'wb') as f:\n",
    "    pickle.dump(model, f)"
   ]
  },
  {
   "cell_type": "code",
   "execution_count": 29,
   "metadata": {},
   "outputs": [],
   "source": [
    "with open('sentence_embeddings.pickle', 'wb') as f:\n",
    "    pickle.dump(sentence_embeddings, f)"
   ]
  },
  {
   "cell_type": "code",
   "execution_count": 30,
   "metadata": {},
   "outputs": [],
   "source": [
    "with open('cluster_embeddings.pickle', 'wb') as f:\n",
    "    pickle.dump(cluster_embeddings, f)"
   ]
  },
  {
   "cell_type": "code",
   "execution_count": 10,
   "metadata": {},
   "outputs": [],
   "source": [
    "data_to_cluster_mapping = {}\n",
    "for i, data_keyword in enumerate(keywords):\n",
    "    similarity_scores = cosine_similarity(sentence_embeddings[i].reshape(1, -1), cluster_embeddings)\n",
    "    best_cluster_index = similarity_scores.argmax()\n",
    "    data_to_cluster_mapping[data_keyword] = cluster_keywords[best_cluster_index]"
   ]
  },
  {
   "cell_type": "code",
   "execution_count": 11,
   "metadata": {},
   "outputs": [],
   "source": [
    "df = pd.DataFrame(columns=['keyword', 'Cluster_Keyword'])"
   ]
  },
  {
   "cell_type": "code",
   "execution_count": 12,
   "metadata": {},
   "outputs": [],
   "source": [
    "for data_keyword, cluster_keyword in data_to_cluster_mapping.items():\n",
    "    df = df.append({'keyword': data_keyword, 'Cluster_Keyword': cluster_keyword}, ignore_index=True)\n",
    "    #print(f\"Data Keyword: {data_keyword} -> Cluster Keyword: {cluster_keyword}\")"
   ]
  },
  {
   "cell_type": "code",
   "execution_count": 13,
   "metadata": {},
   "outputs": [
    {
     "name": "stdout",
     "output_type": "stream",
     "text": [
      "<class 'pandas.core.frame.DataFrame'>\n",
      "RangeIndex: 227250 entries, 0 to 227249\n",
      "Data columns (total 2 columns):\n",
      " #   Column           Non-Null Count   Dtype \n",
      "---  ------           --------------   ----- \n",
      " 0   keyword          227249 non-null  object\n",
      " 1   Cluster_Keyword  227250 non-null  object\n",
      "dtypes: object(2)\n",
      "memory usage: 3.5+ MB\n"
     ]
    }
   ],
   "source": [
    "df.info()"
   ]
  },
  {
   "cell_type": "code",
   "execution_count": 16,
   "metadata": {},
   "outputs": [],
   "source": [
    "df = df.dropna()"
   ]
  },
  {
   "cell_type": "code",
   "execution_count": 17,
   "metadata": {},
   "outputs": [
    {
     "name": "stdout",
     "output_type": "stream",
     "text": [
      "<class 'pandas.core.frame.DataFrame'>\n",
      "Int64Index: 227249 entries, 0 to 227249\n",
      "Data columns (total 2 columns):\n",
      " #   Column           Non-Null Count   Dtype \n",
      "---  ------           --------------   ----- \n",
      " 0   keyword          227249 non-null  object\n",
      " 1   Cluster_Keyword  227249 non-null  object\n",
      "dtypes: object(2)\n",
      "memory usage: 5.2+ MB\n"
     ]
    }
   ],
   "source": [
    "df.info()"
   ]
  },
  {
   "cell_type": "code",
   "execution_count": 18,
   "metadata": {},
   "outputs": [],
   "source": [
    "data_df = data.copy()"
   ]
  },
  {
   "cell_type": "code",
   "execution_count": 19,
   "metadata": {},
   "outputs": [],
   "source": [
    "merged_df = pd.merge(data_df, df, on='keyword', how='inner')"
   ]
  },
  {
   "cell_type": "code",
   "execution_count": 20,
   "metadata": {},
   "outputs": [
    {
     "name": "stdout",
     "output_type": "stream",
     "text": [
      "<class 'pandas.core.frame.DataFrame'>\n",
      "Int64Index: 4185186 entries, 0 to 4185185\n",
      "Data columns (total 5 columns):\n",
      " #   Column           Dtype \n",
      "---  ------           ----- \n",
      " 0   Unnamed: 0       int64 \n",
      " 1   date             object\n",
      " 2   keyword          object\n",
      " 3   keyword_sum      int64 \n",
      " 4   Cluster_Keyword  object\n",
      "dtypes: int64(2), object(3)\n",
      "memory usage: 191.6+ MB\n"
     ]
    }
   ],
   "source": [
    "merged_df.info()"
   ]
  },
  {
   "cell_type": "code",
   "execution_count": 21,
   "metadata": {},
   "outputs": [
    {
     "data": {
      "text/html": [
       "<div>\n",
       "<style scoped>\n",
       "    .dataframe tbody tr th:only-of-type {\n",
       "        vertical-align: middle;\n",
       "    }\n",
       "\n",
       "    .dataframe tbody tr th {\n",
       "        vertical-align: top;\n",
       "    }\n",
       "\n",
       "    .dataframe thead th {\n",
       "        text-align: right;\n",
       "    }\n",
       "</style>\n",
       "<table border=\"1\" class=\"dataframe\">\n",
       "  <thead>\n",
       "    <tr style=\"text-align: right;\">\n",
       "      <th></th>\n",
       "      <th>Unnamed: 0</th>\n",
       "      <th>date</th>\n",
       "      <th>keyword</th>\n",
       "      <th>keyword_sum</th>\n",
       "      <th>Cluster_Keyword</th>\n",
       "    </tr>\n",
       "  </thead>\n",
       "  <tbody>\n",
       "    <tr>\n",
       "      <th>0</th>\n",
       "      <td>0</td>\n",
       "      <td>2023-07-22</td>\n",
       "      <td>presente</td>\n",
       "      <td>97</td>\n",
       "      <td>accommodation</td>\n",
       "    </tr>\n",
       "    <tr>\n",
       "      <th>1</th>\n",
       "      <td>13171</td>\n",
       "      <td>2023-07-21</td>\n",
       "      <td>presente</td>\n",
       "      <td>184</td>\n",
       "      <td>accommodation</td>\n",
       "    </tr>\n",
       "    <tr>\n",
       "      <th>2</th>\n",
       "      <td>36447</td>\n",
       "      <td>2023-07-20</td>\n",
       "      <td>presente</td>\n",
       "      <td>426</td>\n",
       "      <td>accommodation</td>\n",
       "    </tr>\n",
       "    <tr>\n",
       "      <th>3</th>\n",
       "      <td>60694</td>\n",
       "      <td>2023-07-19</td>\n",
       "      <td>presente</td>\n",
       "      <td>211</td>\n",
       "      <td>accommodation</td>\n",
       "    </tr>\n",
       "    <tr>\n",
       "      <th>4</th>\n",
       "      <td>79497</td>\n",
       "      <td>2023-07-18</td>\n",
       "      <td>presente</td>\n",
       "      <td>17</td>\n",
       "      <td>accommodation</td>\n",
       "    </tr>\n",
       "  </tbody>\n",
       "</table>\n",
       "</div>"
      ],
      "text/plain": [
       "   Unnamed: 0        date   keyword  keyword_sum Cluster_Keyword\n",
       "0           0  2023-07-22  presente           97   accommodation\n",
       "1       13171  2023-07-21  presente          184   accommodation\n",
       "2       36447  2023-07-20  presente          426   accommodation\n",
       "3       60694  2023-07-19  presente          211   accommodation\n",
       "4       79497  2023-07-18  presente           17   accommodation"
      ]
     },
     "execution_count": 21,
     "metadata": {},
     "output_type": "execute_result"
    }
   ],
   "source": [
    "merged_df.head()"
   ]
  },
  {
   "cell_type": "code",
   "execution_count": 22,
   "metadata": {},
   "outputs": [],
   "source": [
    "merged_df['date'] = pd.to_datetime(merged_df['date'])"
   ]
  },
  {
   "cell_type": "code",
   "execution_count": 23,
   "metadata": {},
   "outputs": [],
   "source": [
    "merged_df_sorted = merged_df.sort_values(by='date')"
   ]
  },
  {
   "cell_type": "code",
   "execution_count": 24,
   "metadata": {},
   "outputs": [
    {
     "name": "stdout",
     "output_type": "stream",
     "text": [
      "<class 'pandas.core.frame.DataFrame'>\n",
      "Int64Index: 4185186 entries, 4185185 to 0\n",
      "Data columns (total 5 columns):\n",
      " #   Column           Dtype         \n",
      "---  ------           -----         \n",
      " 0   Unnamed: 0       int64         \n",
      " 1   date             datetime64[ns]\n",
      " 2   keyword          object        \n",
      " 3   keyword_sum      int64         \n",
      " 4   Cluster_Keyword  object        \n",
      "dtypes: datetime64[ns](1), int64(2), object(2)\n",
      "memory usage: 191.6+ MB\n"
     ]
    }
   ],
   "source": [
    "merged_df_sorted.info()"
   ]
  },
  {
   "cell_type": "code",
   "execution_count": 25,
   "metadata": {},
   "outputs": [
    {
     "data": {
      "text/html": [
       "<div>\n",
       "<style scoped>\n",
       "    .dataframe tbody tr th:only-of-type {\n",
       "        vertical-align: middle;\n",
       "    }\n",
       "\n",
       "    .dataframe tbody tr th {\n",
       "        vertical-align: top;\n",
       "    }\n",
       "\n",
       "    .dataframe thead th {\n",
       "        text-align: right;\n",
       "    }\n",
       "</style>\n",
       "<table border=\"1\" class=\"dataframe\">\n",
       "  <thead>\n",
       "    <tr style=\"text-align: right;\">\n",
       "      <th></th>\n",
       "      <th>Unnamed: 0</th>\n",
       "      <th>date</th>\n",
       "      <th>keyword</th>\n",
       "      <th>keyword_sum</th>\n",
       "      <th>Cluster_Keyword</th>\n",
       "    </tr>\n",
       "  </thead>\n",
       "  <tbody>\n",
       "    <tr>\n",
       "      <th>4185185</th>\n",
       "      <td>4290330</td>\n",
       "      <td>2023-01-01</td>\n",
       "      <td>scout cookie</td>\n",
       "      <td>5</td>\n",
       "      <td>fashion</td>\n",
       "    </tr>\n",
       "    <tr>\n",
       "      <th>289913</th>\n",
       "      <td>4288385</td>\n",
       "      <td>2023-01-01</td>\n",
       "      <td>payment method</td>\n",
       "      <td>365</td>\n",
       "      <td>finance</td>\n",
       "    </tr>\n",
       "    <tr>\n",
       "      <th>1482274</th>\n",
       "      <td>4288016</td>\n",
       "      <td>2023-01-01</td>\n",
       "      <td>sum</td>\n",
       "      <td>26</td>\n",
       "      <td>finance</td>\n",
       "    </tr>\n",
       "    <tr>\n",
       "      <th>3996302</th>\n",
       "      <td>4287198</td>\n",
       "      <td>2023-01-01</td>\n",
       "      <td>describes medical</td>\n",
       "      <td>5</td>\n",
       "      <td>beauty &amp; personal care</td>\n",
       "    </tr>\n",
       "    <tr>\n",
       "      <th>3200627</th>\n",
       "      <td>4285615</td>\n",
       "      <td>2023-01-01</td>\n",
       "      <td>cords</td>\n",
       "      <td>9</td>\n",
       "      <td>telecommunications</td>\n",
       "    </tr>\n",
       "  </tbody>\n",
       "</table>\n",
       "</div>"
      ],
      "text/plain": [
       "         Unnamed: 0       date            keyword  keyword_sum  \\\n",
       "4185185     4290330 2023-01-01       scout cookie            5   \n",
       "289913      4288385 2023-01-01     payment method          365   \n",
       "1482274     4288016 2023-01-01                sum           26   \n",
       "3996302     4287198 2023-01-01  describes medical            5   \n",
       "3200627     4285615 2023-01-01              cords            9   \n",
       "\n",
       "                Cluster_Keyword  \n",
       "4185185                 fashion  \n",
       "289913                  finance  \n",
       "1482274                 finance  \n",
       "3996302  beauty & personal care  \n",
       "3200627      telecommunications  "
      ]
     },
     "execution_count": 25,
     "metadata": {},
     "output_type": "execute_result"
    }
   ],
   "source": [
    "merged_df_sorted.head()"
   ]
  },
  {
   "cell_type": "code",
   "execution_count": 26,
   "metadata": {},
   "outputs": [
    {
     "name": "stdout",
     "output_type": "stream",
     "text": [
      "done\n"
     ]
    }
   ],
   "source": [
    "print(\"done\")"
   ]
  },
  {
   "cell_type": "code",
   "execution_count": 27,
   "metadata": {},
   "outputs": [],
   "source": [
    "merged_df_sorted.to_csv(\"~\\Desktop\\JOTFORM\\Summer2023\\Anomaly-Detection\\data\\clustered_data.csv\")"
   ]
  }
 ],
 "metadata": {
  "kernelspec": {
   "display_name": "Python 3",
   "language": "python",
   "name": "python3"
  },
  "language_info": {
   "codemirror_mode": {
    "name": "ipython",
    "version": 3
   },
   "file_extension": ".py",
   "mimetype": "text/x-python",
   "name": "python",
   "nbconvert_exporter": "python",
   "pygments_lexer": "ipython3",
   "version": "3.9.13"
  },
  "orig_nbformat": 4
 },
 "nbformat": 4,
 "nbformat_minor": 2
}
